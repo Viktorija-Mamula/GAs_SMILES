{
 "cells": [
  {
   "cell_type": "code",
   "execution_count": 1,
   "id": "99b412eb-2291-49ef-894d-47d2fee9a796",
   "metadata": {
    "tags": []
   },
   "outputs": [],
   "source": [
    "import pandas as pd\n",
    "from rdkit import Chem\n",
    "import numpy as np\n",
    "import time\n",
    "import datetime\n",
    "import numpy as np\n",
    "import seaborn as sns\n",
    "from matplotlib import pyplot as plt\n",
    "import statistics\n",
    "\n",
    "from rdkit import RDLogger\n",
    "lg = RDLogger.logger()\n",
    "lg.setLevel(RDLogger.CRITICAL)\n",
    "\n",
    "import random\n",
    "from deap import base, creator, tools\n",
    "\n",
    "import warnings\n",
    "warnings.filterwarnings('ignore')"
   ]
  },
  {
   "cell_type": "code",
   "execution_count": 2,
   "id": "b5734198-fc9b-479f-8978-18e37ff24f6b",
   "metadata": {
    "tags": []
   },
   "outputs": [],
   "source": [
    "#            Ag  Al  As  At  B  Ba  Be Bi  Br  C  Ca  Cl  Cs  F  H  He  I  K  Kr  Li  Mg  N  Na  O  P   Ra  Rb  S   Sc  Sn  Te  Xe  Zn]\n",
    "atoms_num = [47, 13, 33, 85, 5, 56, 4, 83, 35, 6, 20, 17, 55, 9, 1, 2, 53, 19, 36, 3, 12, 7, 11, 8, 15, 88, 37, 16, 21, 50, 52, 54, 30] "
   ]
  },
  {
   "cell_type": "code",
   "execution_count": 3,
   "id": "e2bf660c-c72a-4821-900b-3aa21562e5e7",
   "metadata": {
    "tags": []
   },
   "outputs": [],
   "source": [
    "def balance_parenthesis_type(smiles, parenthesis):\n",
    "    stack = [] \n",
    "    balanced_smiles = ''\n",
    "    \n",
    "    for char in smiles:\n",
    "        if char not in parenthesis:\n",
    "            balanced_smiles += char\n",
    "        elif char in parenthesis[0]:\n",
    "            stack.append(char)\n",
    "            balanced_smiles += char \n",
    "        elif char in parenthesis[1]:\n",
    "            if not stack:\n",
    "                balanced_smiles += parenthesis[0]\n",
    "            else:\n",
    "                stack.pop()\n",
    "            balanced_smiles += char \n",
    "        \n",
    "    while stack:\n",
    "        stack.pop()\n",
    "        balanced_smiles += parenthesis[1]\n",
    "    return balanced_smiles\n",
    "\n",
    "def balance_parenthesis(smiles):\n",
    "    smiles = balance_parenthesis_type(smiles,'()')\n",
    "    balanced_smiles = balance_parenthesis_type(smiles,'[]')\n",
    "    balanced_smiles = balanced_smiles.replace('()','').replace('[]','')\n",
    "    return balanced_smiles"
   ]
  },
  {
   "cell_type": "code",
   "execution_count": 4,
   "id": "8c3ccd6d-76f5-4b9c-9cb5-2c4e8f4eac62",
   "metadata": {
    "tags": []
   },
   "outputs": [],
   "source": [
    "def my_mutation(individual):\n",
    "    for _ in range(30):\n",
    "        try:\n",
    "            mol = Chem.MolFromSmiles(individual)\n",
    "            mol = Chem.RWMol(mol)\n",
    "            max_len = mol.GetNumAtoms()\n",
    "            rnd_atom = np.random.randint(0, max_len-1)\n",
    "            if mol.GetAtomWithIdx(rnd_atom).GetIsAromatic():\n",
    "                mol.ReplaceAtom(rnd_atom, Chem.Atom(random.choice([6, 7, 15, 8, 16])))\n",
    "            else:\n",
    "                atom_index = np.random.randint(0, len(atoms_num)-1)\n",
    "                mol.ReplaceAtom(rnd_atom, Chem.Atom(atoms_num[atom_index]))\n",
    "\n",
    "            new_individual = Chem.MolToSmiles(mol)\n",
    "        except:\n",
    "            new_individual = '()'\n",
    "        if Chem.MolFromSmiles(new_individual) is not None: \n",
    "            mol = Chem.MolFromSmiles(new_individual)\n",
    "            new_individual = Chem.MolToSmiles(mol)\n",
    "            if new_individual != individual:\n",
    "                return new_individual,\n",
    "    return None,"
   ]
  },
  {
   "cell_type": "code",
   "execution_count": 5,
   "id": "4c6f39fc-56e8-49c6-a2a3-1d5c9358629f",
   "metadata": {
    "tags": []
   },
   "outputs": [],
   "source": [
    "def my_crossover(parent_a,parent_b):\n",
    "    check = []\n",
    "    i = 0\n",
    "    for _ in range(30):\n",
    "        cut_point_a = random.randint(0, len(parent_a) - 1)\n",
    "        cut_point_b = random.randint(0, len(parent_b) - 1)\n",
    "        a1 = parent_a[0:cut_point_a]\n",
    "        a2 = parent_a[cut_point_a:len(parent_a)]\n",
    "        b1 = parent_b[0:cut_point_b]\n",
    "        b2 = parent_b[cut_point_b:len(parent_b)]\n",
    "        child1 = a1 + b2\n",
    "        child2 = b1 + a2\n",
    "        child1 = balance_parenthesis(child1)\n",
    "        child2 = balance_parenthesis(child2)\n",
    "        if Chem.MolFromSmiles(child1) is not None and Chem.MolFromSmiles(child2) is not None:\n",
    "            ch1 = child1\n",
    "            ch2 = child2\n",
    "            mol1 = Chem.MolFromSmiles(child1)\n",
    "            mol2 = Chem.MolFromSmiles(child2)\n",
    "            child1 = Chem.MolToSmiles(mol1)\n",
    "            child2 = Chem.MolToSmiles(mol2)\n",
    "            return child1, child2\n",
    "    for _ in range(30):\n",
    "        cut_point_a = random.randint(0, len(parent_a) - 1)\n",
    "        cut_point_b = random.randint(0, len(parent_b) - 1)\n",
    "        a1 = parent_a[0:cut_point_a]\n",
    "        a2 = parent_a[cut_point_a:len(parent_a)]\n",
    "        b1 = parent_b[0:cut_point_b]\n",
    "        b2 = parent_b[cut_point_b:len(parent_b)]\n",
    "        child1 = b2 + a1\n",
    "        child2 = a2 + b1\n",
    "        child1 = balance_parenthesis(child1)\n",
    "        child2 = balance_parenthesis(child2)\n",
    "        if Chem.MolFromSmiles(child1) is not None and Chem.MolFromSmiles(child2) is not None:\n",
    "            ch1 = child1\n",
    "            ch2 = child2\n",
    "            mol1 = Chem.MolFromSmiles(child1)\n",
    "            mol2 = Chem.MolFromSmiles(child2)\n",
    "            child1 = Chem.MolToSmiles(mol1)\n",
    "            child2 = Chem.MolToSmiles(mol2)\n",
    "            return child1, child2\n",
    "    return None, None"
   ]
  },
  {
   "cell_type": "code",
   "execution_count": 6,
   "id": "e54f0fc2-a479-45b4-b748-f58663155c06",
   "metadata": {
    "tags": []
   },
   "outputs": [],
   "source": [
    "def read_file(file_name):\n",
    "    smiles_list = []\n",
    "    with open(file_name,'r') as file:\n",
    "        for smiles in file:\n",
    "            smiles = smiles.replace('\\n', '')\n",
    "            smiles_list.append(smiles)\n",
    "\n",
    "    return smiles_list\n",
    "\n",
    "random_molecules = read_file('random_SMILES.txt')\n",
    "#random_molecules = read_file('SMILES_high.txt')"
   ]
  },
  {
   "cell_type": "code",
   "execution_count": 7,
   "id": "ea7880ba-1d39-4558-81b3-05117192c9cb",
   "metadata": {
    "tags": []
   },
   "outputs": [],
   "source": [
    "from rdkit import Chem\n",
    "from rdkit.Chem import RDConfig\n",
    "import os\n",
    "import sys\n",
    "sys.path.append(os.path.join(RDConfig.RDContribDir, 'SA_Score'))\n",
    "import sascorer\n",
    "\n",
    "\n",
    "def evaluate_individual(individual):\n",
    "    mol = Chem.MolFromSmiles(individual)\n",
    "    score = sascorer.calculateScore(mol)\n",
    "    return score,  "
   ]
  },
  {
   "cell_type": "code",
   "execution_count": 8,
   "id": "6bd2e105-8ee2-4bef-890c-df8ff5bd463f",
   "metadata": {
    "tags": []
   },
   "outputs": [],
   "source": [
    "from rdkit.Chem import QED\n",
    "def qed_score(mol):\n",
    "    mol = Chem.MolFromSmiles(mol)\n",
    "    score = QED.default(mol)\n",
    "    return score"
   ]
  },
  {
   "cell_type": "code",
   "execution_count": 9,
   "id": "d9aa978e-c6d3-445d-ab5d-bdc73cb90d1e",
   "metadata": {
    "tags": []
   },
   "outputs": [],
   "source": [
    "creator.create(\"FitnessMin\", base.Fitness, weights=(-1.0,))\n",
    "creator.create(\"Individual\", str, fitness=creator.FitnessMin)\n",
    "\n",
    "toolbox = base.Toolbox()\n",
    "toolbox.register(\"attr_molecule\", random.choice, random_molecules)\n",
    "toolbox.register(\"individual\", tools.initRepeat, creator.Individual, toolbox.attr_molecule, n=1)\n",
    "toolbox.register(\"population\", tools.initRepeat, list, toolbox.individual)\n",
    "\n",
    "toolbox.register(\"evaluate\", evaluate_individual)\n",
    "toolbox.register(\"mutate\", my_mutation)\n",
    "toolbox.register(\"mate\", my_crossover)\n",
    "toolbox.register(\"select\", tools.selTournament, tournsize=5)\n"
   ]
  },
  {
   "cell_type": "code",
   "execution_count": 10,
   "id": "f59b293e-c6df-4e74-9121-ebf66a32e604",
   "metadata": {
    "tags": []
   },
   "outputs": [],
   "source": [
    "stats = tools.Statistics(lambda ind: ind.fitness.values)\n",
    "stats.register(\"mean\", lambda x: sum(x) / len(x))\n",
    "stats.register(\"std\", lambda x: round(statistics.pstdev(x),3))\n",
    "stats.register(\"min\", lambda x: min(x))\n",
    "stats.register(\"max\", lambda x: max(x))"
   ]
  },
  {
   "cell_type": "markdown",
   "id": "016252ab-ef06-4549-ada5-9f810f1cc518",
   "metadata": {},
   "source": [
    "# GA"
   ]
  },
  {
   "cell_type": "code",
   "execution_count": 11,
   "id": "527ed35c-3483-4f39-af95-7d2b225b9562",
   "metadata": {
    "tags": []
   },
   "outputs": [
    {
     "data": {
      "text/plain": [
       "[3.774091125209239,\n",
       " 3.9158621764687656,\n",
       " 4.1782883149178645,\n",
       " 6.243111097975944,\n",
       " 2.98883590385498,\n",
       " 6.265500311793238,\n",
       " 3.2993667858496636,\n",
       " 4.4885981682900296,\n",
       " 4.478888314917865,\n",
       " 2.8422173048844197]"
      ]
     },
     "execution_count": 11,
     "metadata": {},
     "output_type": "execute_result"
    }
   ],
   "source": [
    "population = [creator.Individual(toolbox.attr_molecule()) for _ in range(10)]\n",
    "fitnesses = list(map(toolbox.evaluate, population))\n",
    "for ind, fit in zip(population, fitnesses):\n",
    "    ind.fitness.values = fit\n",
    "fits = [ind.fitness.values[0] for ind in population]\n",
    "\n",
    "\n",
    "offspring = toolbox.select(population, len(population))\n",
    "offspring = list(map(toolbox.clone, offspring))\n",
    "\n",
    "fits"
   ]
  },
  {
   "cell_type": "code",
   "execution_count": 12,
   "id": "2f76eee3-c271-4a25-9d2f-0a2e5e1352f5",
   "metadata": {
    "tags": []
   },
   "outputs": [
    {
     "ename": "AttributeError",
     "evalue": "'str' object has no attribute 'fitness'",
     "output_type": "error",
     "traceback": [
      "\u001b[1;31m---------------------------------------------------------------------------\u001b[0m",
      "\u001b[1;31mAttributeError\u001b[0m                            Traceback (most recent call last)",
      "Cell \u001b[1;32mIn[12], line 14\u001b[0m\n\u001b[0;32m     11\u001b[0m     \u001b[38;5;28;01mif\u001b[39;00m random\u001b[38;5;241m.\u001b[39mrandom() \u001b[38;5;241m<\u001b[39m cxpb:\n\u001b[0;32m     12\u001b[0m         offspring[i \u001b[38;5;241m-\u001b[39m \u001b[38;5;241m1\u001b[39m], offspring[i] \u001b[38;5;241m=\u001b[39m toolbox\u001b[38;5;241m.\u001b[39mmate(offspring[i \u001b[38;5;241m-\u001b[39m \u001b[38;5;241m1\u001b[39m],\n\u001b[0;32m     13\u001b[0m                                                       offspring[i])\n\u001b[1;32m---> 14\u001b[0m         \u001b[38;5;28;01mdel\u001b[39;00m \u001b[43moffspring\u001b[49m\u001b[43m[\u001b[49m\u001b[43mi\u001b[49m\u001b[43m \u001b[49m\u001b[38;5;241;43m-\u001b[39;49m\u001b[43m \u001b[49m\u001b[38;5;241;43m1\u001b[39;49m\u001b[43m]\u001b[49m\u001b[38;5;241;43m.\u001b[39;49m\u001b[43mfitness\u001b[49m\u001b[38;5;241m.\u001b[39mvalues, offspring[i]\u001b[38;5;241m.\u001b[39mfitness\u001b[38;5;241m.\u001b[39mvalues\n\u001b[0;32m     16\u001b[0m \u001b[38;5;28;01mfor\u001b[39;00m i \u001b[38;5;129;01min\u001b[39;00m \u001b[38;5;28mrange\u001b[39m(\u001b[38;5;28mlen\u001b[39m(offspring)):\n\u001b[0;32m     17\u001b[0m     \u001b[38;5;28;01mif\u001b[39;00m random\u001b[38;5;241m.\u001b[39mrandom() \u001b[38;5;241m<\u001b[39m mutpb:\n",
      "\u001b[1;31mAttributeError\u001b[0m: 'str' object has no attribute 'fitness'"
     ]
    }
   ],
   "source": [
    "ngen = 20\n",
    "cxpb = 1\n",
    "mutpd = 0.05\n",
    "\n",
    "\n",
    "for i in range(1, ngen+1): # From DEAP eaSimple\n",
    "    offspring = toolbox.select(population, len(population))\n",
    "    offspring = list(map(toolbox.clone, offspring))\n",
    "    \n",
    "    for i in range(1, len(offspring), 2):\n",
    "        if random.random() < cxpb:\n",
    "            offspring[i - 1], offspring[i] = toolbox.mate(offspring[i - 1],\n",
    "                                                          offspring[i])\n",
    "            del offspring[i - 1].fitness.values, offspring[i].fitness.values\n",
    "\n",
    "    for i in range(len(offspring)):\n",
    "        if random.random() < mutpb:\n",
    "            offspring[i], = toolbox.mutate(offspring[i])\n",
    "            del offspring[i].fitness.values\n",
    "            \n",
    "    # Evaluate the individuals with an invalid fitness\n",
    "    invalid_ind = [ind for ind in offspring if not ind.fitness.valid]\n",
    "    fitnesses = toolbox.map(toolbox.evaluate, invalid_ind)\n",
    "    for ind, fit in zip(invalid_ind, fitnesses):\n",
    "        ind.fitness.values = fit\n",
    "        \n",
    "    population[:] = offspring"
   ]
  },
  {
   "cell_type": "markdown",
   "id": "cdd2aa74-8989-4904-96bd-e9c667a1de44",
   "metadata": {},
   "source": [
    "# Step by step break down"
   ]
  },
  {
   "cell_type": "code",
   "execution_count": 13,
   "id": "846e4bf9-9bbf-4bb4-9c7c-17e8f9671e0b",
   "metadata": {
    "tags": []
   },
   "outputs": [
    {
     "data": {
      "text/plain": [
       "['CC(N=O)OCCCCNCCPC=O',\n",
       " 'CC=C1C(=O)CC1C',\n",
       " 'CCCC(O)C(C)=C1C=C=CC1C=O',\n",
       " 'NN1C=CC=C=CC(NCC=CC=O)CO1',\n",
       " 'C=[SH]CN=C(CCCC=O)CC(N=O)NC',\n",
       " 'C#CCCC(=O)C(C)C',\n",
       " 'CC=CC#CCCC=CCC=CC=O',\n",
       " 'O=CCC1COC1',\n",
       " 'CC1N=CC=CN2C(CCC=C=O)=C12',\n",
       " 'CCCC(O)C(N)CCCl']"
      ]
     },
     "execution_count": 13,
     "metadata": {},
     "output_type": "execute_result"
    }
   ],
   "source": [
    "population = [creator.Individual(toolbox.attr_molecule()) for _ in range(10)]\n",
    "population"
   ]
  },
  {
   "cell_type": "code",
   "execution_count": 14,
   "id": "872b10a2-1e03-4857-9c3a-2f4ffb840697",
   "metadata": {
    "tags": []
   },
   "outputs": [
    {
     "data": {
      "text/plain": [
       "[4.582227383580593,\n",
       " 3.819725686948564,\n",
       " 5.2646687197574185,\n",
       " 5.801631205815811,\n",
       " 5.182245602211745,\n",
       " 2.8422173048844197,\n",
       " 3.7312513549229074,\n",
       " 3.000307797050394,\n",
       " 5.157060784534748,\n",
       " 3.588170393920489]"
      ]
     },
     "execution_count": 14,
     "metadata": {},
     "output_type": "execute_result"
    }
   ],
   "source": [
    "fitnesses = list(map(toolbox.evaluate, population))\n",
    "for ind, fit in zip(population, fitnesses):\n",
    "    ind.fitness.values = fit\n",
    "fits = [ind.fitness.values[0] for ind in population]\n",
    "fits"
   ]
  },
  {
   "cell_type": "code",
   "execution_count": 15,
   "id": "726fe73a-5047-4e6b-a307-34e9cd82b9f0",
   "metadata": {
    "tags": []
   },
   "outputs": [
    {
     "data": {
      "text/plain": [
       "['O=CCC1COC1',\n",
       " 'CCCC(O)C(N)CCCl',\n",
       " 'C#CCCC(=O)C(C)C',\n",
       " 'CC=CC#CCCC=CCC=CC=O',\n",
       " 'CCCC(O)C(N)CCCl',\n",
       " 'C#CCCC(=O)C(C)C',\n",
       " 'CCCC(O)C(N)CCCl',\n",
       " 'O=CCC1COC1',\n",
       " 'O=CCC1COC1',\n",
       " 'O=CCC1COC1']"
      ]
     },
     "execution_count": 15,
     "metadata": {},
     "output_type": "execute_result"
    }
   ],
   "source": [
    "offspring = toolbox.select(population, len(population))\n",
    "offspring = list(map(toolbox.clone, offspring))\n",
    "offspring"
   ]
  },
  {
   "cell_type": "markdown",
   "id": "9c6903a4-2dc8-46fc-b3cd-8cffdbbdd0e0",
   "metadata": {},
   "source": [
    "#### ERROR: after mating type changes from <class 'deap.creator.Individual'> to <class 'str'>, which is not happenig if you use predefined crossover (which does not fit my problem)"
   ]
  },
  {
   "cell_type": "code",
   "execution_count": 16,
   "id": "5c157603-37b0-417b-85bd-0ccb5c80e538",
   "metadata": {
    "tags": []
   },
   "outputs": [
    {
     "name": "stdout",
     "output_type": "stream",
     "text": [
      "Selected for mating: O=CCC1COC1, CCCC(O)C(N)CCCl\n",
      "Type of offspring[i] is: <class 'deap.creator.Individual'>\n",
      "After mating: NC(CCCl)OO , CCCC=CCC1COC1\n",
      "Type of offspring[i] after mating is: <class 'str'>\n"
     ]
    },
    {
     "ename": "AttributeError",
     "evalue": "'str' object has no attribute 'fitness'",
     "output_type": "error",
     "traceback": [
      "\u001b[1;31m---------------------------------------------------------------------------\u001b[0m",
      "\u001b[1;31mAttributeError\u001b[0m                            Traceback (most recent call last)",
      "Cell \u001b[1;32mIn[16], line 10\u001b[0m\n\u001b[0;32m      7\u001b[0m \u001b[38;5;28mprint\u001b[39m(\u001b[38;5;124mf\u001b[39m\u001b[38;5;124m'\u001b[39m\u001b[38;5;124mAfter mating: \u001b[39m\u001b[38;5;132;01m{\u001b[39;00moffspring[i\u001b[38;5;250m \u001b[39m\u001b[38;5;241m-\u001b[39m\u001b[38;5;250m \u001b[39m\u001b[38;5;241m1\u001b[39m]\u001b[38;5;132;01m}\u001b[39;00m\u001b[38;5;124m , \u001b[39m\u001b[38;5;132;01m{\u001b[39;00moffspring[i]\u001b[38;5;132;01m}\u001b[39;00m\u001b[38;5;124m'\u001b[39m)\n\u001b[0;32m      8\u001b[0m \u001b[38;5;28mprint\u001b[39m(\u001b[38;5;124mf\u001b[39m\u001b[38;5;124m'\u001b[39m\u001b[38;5;124mType of offspring[i] after mating is: \u001b[39m\u001b[38;5;132;01m{\u001b[39;00m\u001b[38;5;28mtype\u001b[39m(offspring[i])\u001b[38;5;132;01m}\u001b[39;00m\u001b[38;5;124m'\u001b[39m)\n\u001b[1;32m---> 10\u001b[0m \u001b[38;5;28;01mdel\u001b[39;00m \u001b[43moffspring\u001b[49m\u001b[43m[\u001b[49m\u001b[43mi\u001b[49m\u001b[43m \u001b[49m\u001b[38;5;241;43m-\u001b[39;49m\u001b[43m \u001b[49m\u001b[38;5;241;43m1\u001b[39;49m\u001b[43m]\u001b[49m\u001b[38;5;241;43m.\u001b[39;49m\u001b[43mfitness\u001b[49m\u001b[38;5;241m.\u001b[39mvalues, offspring[i]\u001b[38;5;241m.\u001b[39mfitness\u001b[38;5;241m.\u001b[39mvalues\n",
      "\u001b[1;31mAttributeError\u001b[0m: 'str' object has no attribute 'fitness'"
     ]
    }
   ],
   "source": [
    "for i in range(1, len(offspring), 2):\n",
    "        if random.random() < cxpb:\n",
    "            print(f'Selected for mating: {offspring[i - 1]}, {offspring[i]}')\n",
    "            print(f'Type of offspring[i] is: {type(offspring[i])}')\n",
    "            offspring[i - 1], offspring[i] = toolbox.mate(offspring[i - 1],\n",
    "                                                          offspring[i])\n",
    "            print(f'After mating: {offspring[i - 1]} , {offspring[i]}')\n",
    "            print(f'Type of offspring[i] after mating is: {type(offspring[i])}')\n",
    "                                              \n",
    "            del offspring[i - 1].fitness.values, offspring[i].fitness.values"
   ]
  },
  {
   "cell_type": "code",
   "execution_count": null,
   "id": "f4add3c1-11eb-4aa0-8705-59cab13006ff",
   "metadata": {},
   "outputs": [],
   "source": []
  },
  {
   "cell_type": "code",
   "execution_count": null,
   "id": "883761ac-0d7b-45e4-affa-44242b6b60af",
   "metadata": {},
   "outputs": [],
   "source": []
  }
 ],
 "metadata": {
  "kernelspec": {
   "display_name": "Python 3 (ipykernel)",
   "language": "python",
   "name": "python3"
  },
  "language_info": {
   "codemirror_mode": {
    "name": "ipython",
    "version": 3
   },
   "file_extension": ".py",
   "mimetype": "text/x-python",
   "name": "python",
   "nbconvert_exporter": "python",
   "pygments_lexer": "ipython3",
   "version": "3.11.2"
  }
 },
 "nbformat": 4,
 "nbformat_minor": 5
}
