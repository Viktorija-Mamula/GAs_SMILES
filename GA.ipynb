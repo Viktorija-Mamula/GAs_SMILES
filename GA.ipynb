{
 "cells": [
  {
   "cell_type": "code",
   "execution_count": 5,
   "id": "42f0cc7d-9a38-4a3a-9ab8-1e23811716f8",
   "metadata": {
    "tags": []
   },
   "outputs": [],
   "source": [
    "from rdkit import Chem\n",
    "import numpy as np\n",
    "\n",
    "smis = [\"CN2C(=O)N(C)C(=O)C1=C2N=CN1C\",\n",
    "          \"CN1C=NC2=C1C(=O)N(C)C(=O)N2C\"]\n",
    "\n",
    "cans = [Chem.MolToSmiles(Chem.MolFromSmiles(smi),True) for smi in smis]"
   ]
  },
  {
   "cell_type": "code",
   "execution_count": 2,
   "id": "11b230bc-62a3-4248-af13-37226870533f",
   "metadata": {
    "tags": []
   },
   "outputs": [
    {
     "data": {
      "text/plain": [
       "['Cn1c(=O)c2c(ncn2C)n(C)c1=O', 'Cn1c(=O)c2c(ncn2C)n(C)c1=O']"
      ]
     },
     "execution_count": 2,
     "metadata": {},
     "output_type": "execute_result"
    }
   ],
   "source": [
    "cans"
   ]
  },
  {
   "cell_type": "code",
   "execution_count": 3,
   "id": "06a51cdc-1445-461a-a380-84f8aaa2c01d",
   "metadata": {
    "tags": []
   },
   "outputs": [
    {
     "ename": "ModuleNotFoundError",
     "evalue": "No module named 'pybel'",
     "output_type": "error",
     "traceback": [
      "\u001b[1;31m---------------------------------------------------------------------------\u001b[0m",
      "\u001b[1;31mModuleNotFoundError\u001b[0m                       Traceback (most recent call last)",
      "Cell \u001b[1;32mIn[3], line 4\u001b[0m\n\u001b[0;32m      2\u001b[0m random\u001b[38;5;241m.\u001b[39mseed(\u001b[38;5;241m1\u001b[39m)\n\u001b[0;32m      3\u001b[0m \u001b[38;5;28;01mfrom\u001b[39;00m \u001b[38;5;21;01mcollections\u001b[39;00m \u001b[38;5;28;01mimport\u001b[39;00m defaultdict\n\u001b[1;32m----> 4\u001b[0m \u001b[38;5;28;01mimport\u001b[39;00m \u001b[38;5;21;01mpybel\u001b[39;00m\n\u001b[0;32m      5\u001b[0m ob \u001b[38;5;241m=\u001b[39m pybel\u001b[38;5;241m.\u001b[39mob\n\u001b[0;32m      6\u001b[0m ob\u001b[38;5;241m.\u001b[39mobErrorLog\u001b[38;5;241m.\u001b[39mStopLogging()\n",
      "\u001b[1;31mModuleNotFoundError\u001b[0m: No module named 'pybel'"
     ]
    }
   ],
   "source": [
    "import random\n",
    "random.seed(1)\n",
    "from collections import defaultdict\n",
    "import pybel\n",
    "ob = pybel.ob\n",
    "ob.obErrorLog.StopLogging()\n",
    "\n",
    "def CreateValencyTable(mol):\n",
    "    common_valencies = defaultdict(lambda:defaultdict(set))\n",
    "\n",
    "    for atom in ob.OBMolAtomIter(mol.OBMol):\n",
    "        elem = atom.GetAtomicNum()\n",
    "        chg = atom.GetFormalCharge()\n",
    "        totalbonds = atom.BOSum() + atom.GetImplicitHCount()\n",
    "        common_valencies[elem][chg].add(totalbonds)\n",
    "\n",
    "    # Convert from defaultdict to dict\n",
    "    ans = {}\n",
    "    for x, y in common_valencies.items():\n",
    "        ans[x] = dict(y)\n",
    "    return ans\n",
    "\n",
    "abilifysmi = \"Clc4cccc(N3CCN(CCCCOc2ccc1c(NC(=O)CC1)c2)CC3)c4Cl\"\n",
    "abilify = pybel.readstring(\"smi\", abilifysmi)\n",
    "common_valencies = CreateValencyTable(abilify)\n",
    "print(\"The allowed elements, charge states and valencies are\")\n",
    "print(common_valencies)\n",
    "\n",
    "def HasCommonValence(mol):\n",
    "    for atom in ob.OBMolAtomIter(mol):\n",
    "        elem = atom.GetAtomicNum()\n",
    "        if elem not in common_valencies:\n",
    "            return False # unusual elem\n",
    "        chg = atom.GetFormalCharge()\n",
    "        data = common_valencies[elem]\n",
    "        if chg not in data:\n",
    "            return False # unusual charge state\n",
    "        totalbonds = atom.BOSum() + atom.GetImplicitHCount()\n",
    "        if totalbonds not in data[chg]:\n",
    "            return False # unusual valence\n",
    "    return True\n",
    "\n",
    "def create_mutants(A, B):\n",
    "    # Let's randomly choose a cross-over point in both A and B\n",
    "    # and generate four possible combinations\n",
    "    c1 = random.randint(0, len(A))\n",
    "    c2 = random.randint(0, len(B))\n",
    "    startA, endA = A[:c1], A[c1:]\n",
    "    startB, endB = B[:c2], B[c2:]\n",
    "    children = [\n",
    "            startA+endB, startB+endA, # somewhat sensible\n",
    "            endA+startB, endB+startA, # less sensible\n",
    "            ]\n",
    "    # Let's mutate a few characters by swapping nbors randomly\n",
    "    mutant_children = []\n",
    "    for child in children:\n",
    "        mutant = \"\"\n",
    "        i = 0\n",
    "        N = len(child)\n",
    "        while i < N:\n",
    "            if i+1 < N and random.random() > 0.66: # 1 in 3 chance\n",
    "                mutant += child[i+1]\n",
    "                mutant += child[i]\n",
    "                i += 1 # extra increment\n",
    "            else:\n",
    "                mutant += child[i]\n",
    "            i += 1\n",
    "        mutant_children.append(mutant)\n",
    "    random.shuffle(mutant_children) # don't favour any of them\n",
    "    return mutant_children\n",
    "\n",
    "def get_mutant(smiA, smiB):\n",
    "    for N in range(50): # try combining these 50 times\n",
    "        mutantsmis = create_mutants(smiA, smiB)\n",
    "        for mutantsmi in mutantsmis:\n",
    "            try:\n",
    "                mol = pybel.readstring(\"smi\", mutantsmi)\n",
    "            except IOError:\n",
    "                continue # bad syntax\n",
    "            if HasCommonValence(mol.OBMol):\n",
    "                return mutantsmi, mol\n",
    "    return \"\", None\n",
    "\n",
    "def CreateObjectiveFn(targetfp):\n",
    "    def objectivefn(smi):\n",
    "        return pybel.readstring(\"smi\", smi).calcfp(\"ecfp4\") | targetfp\n",
    "    return objectivefn\n",
    "\n",
    "class GA:\n",
    "    def __init__(self, objectivefn, N):\n",
    "        self.objectivefn = objectivefn\n",
    "        self.N = N\n",
    "\n",
    "    def createInitialPop(self, db, targetlensmi):\n",
    "        # The population will always be in sorted order by decreasing\n",
    "        # objectivefn() (i.e. most similar first). This will simplify\n",
    "        # top-slicing and tournament selection.\n",
    "        pop = []\n",
    "        while len(pop) < self.N:\n",
    "            smi = random.choice(db)\n",
    "            mol = pybel.readstring(\"smi\", smi)\n",
    "            # Select molecules with a similar SMILES length but with a low value of the objectivefn\n",
    "            if HasCommonValence(mol.OBMol) and abs(targetlensmi - len(smi)) < 10 and self.objectivefn(smi) < 0.2:\n",
    "                mol.OBMol.SetTitle(\"\")\n",
    "                pop.append(mol.write(\"smi\", opt={\"i\":True}).rstrip()) # random order, leave out stereo\n",
    "        self.pop = sorted(pop, key=lambda x:self.objectivefn(x), reverse=True)\n",
    "\n",
    "    def createChildren(self):\n",
    "        # tournament selection of 2 smis\n",
    "        children = []\n",
    "        mrange = range(self.N)\n",
    "        while len(children) < self.N:\n",
    "            chosenA = sorted(random.sample(mrange, 3))[0]\n",
    "            chosenB = chosenA\n",
    "            while chosenB == chosenA:\n",
    "                chosenB = sorted(random.sample(mrange, 3))[0]\n",
    "            # unleash the mutants\n",
    "            mutantsmi, mol = get_mutant(self.pop[chosenA], self.pop[chosenB])\n",
    "            if not mol:\n",
    "                continue\n",
    "            children.append(mutantsmi)\n",
    "        self.children = sorted(children, key=lambda x:self.objectivefn(x), reverse=True)\n",
    "\n",
    "    def createNextGen(self):\n",
    "        # top-slice the existing population and the children\n",
    "        self.pop = sorted(self.pop[:int(self.N/2)] + self.children[:int(self.N/2)],\n",
    "                          key=lambda x:self.objectivefn(x), reverse=True)\n",
    "\n",
    "    def report(self):\n",
    "        for p in self.pop[:10]:\n",
    "            print(p, self.objectivefn(p))\n",
    "        print()\n",
    "\n",
    "if __name__ == \"__main__\":\n",
    "    targetfp = abilify.calcfp(\"ecfp4\")\n",
    "    objfn = CreateObjectiveFn(targetfp)\n",
    "\n",
    "    with open(r\"D:\\LargeData\\ChEMBL\\chembl_23.smi\") as inp:\n",
    "        allchembl = inp.readlines()\n",
    "\n",
    "    N = 100 # no. of chromosomes \n",
    "    ga = GA(objfn, N)\n",
    "    ga.createInitialPop(allchembl, len(abilifysmi))\n",
    "    ga.report()\n",
    "    iter = 0\n",
    "    while True:\n",
    "        iter += 1\n",
    "        print(\"Iter =\", iter)\n",
    "        ga.createChildren()\n",
    "        ga.createNextGen()\n",
    "        ga.report()"
   ]
  },
  {
   "cell_type": "code",
   "execution_count": 4,
   "id": "c92299e4-2d35-462e-8a1c-faff1b5a91bc",
   "metadata": {
    "tags": []
   },
   "outputs": [
    {
     "name": "stdout",
     "output_type": "stream",
     "text": [
      "Hello world\n"
     ]
    }
   ],
   "source": [
    "print('Hello world')"
   ]
  },
  {
   "cell_type": "code",
   "execution_count": null,
   "id": "0ede3c31-c629-4498-a8ba-942292d7043f",
   "metadata": {},
   "outputs": [],
   "source": []
  }
 ],
 "metadata": {
  "kernelspec": {
   "display_name": "Python 3 (ipykernel)",
   "language": "python",
   "name": "python3"
  },
  "language_info": {
   "codemirror_mode": {
    "name": "ipython",
    "version": 3
   },
   "file_extension": ".py",
   "mimetype": "text/x-python",
   "name": "python",
   "nbconvert_exporter": "python",
   "pygments_lexer": "ipython3",
   "version": "3.11.2"
  }
 },
 "nbformat": 4,
 "nbformat_minor": 5
}
